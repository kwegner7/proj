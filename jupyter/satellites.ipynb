{
 "cells": [
  {
   "cell_type": "markdown",
   "metadata": {},
   "source": [
    "<style>\n",
    "    p { color: red; }\n",
    "</style>"
   ]
  },
  {
   "cell_type": "markdown",
   "metadata": {},
   "source": [
    "<hr style=\"height:4px; border:none; color:black; background-color:black;\">\n",
    "\n",
    "### HTML"
   ]
  },
  {
   "cell_type": "code",
   "execution_count": 1,
   "metadata": {},
   "outputs": [
    {
     "data": {
      "text/html": [
       "<style>\n",
       "  div.prompt {display:none}\n",
       "  li {color:black; font-size:large; line-height: 150%;}\n",
       "  p {color:black; font-size:large; line-height: 150%;}\n",
       "  p.k {color:black; font-size:110%; font-family: Consolas, monaco, monospace;}\n",
       "  ul {list-style-type: none;}\n",
       "</style>\n"
      ],
      "text/plain": [
       "<IPython.core.display.HTML object>"
      ]
     },
     "metadata": {},
     "output_type": "display_data"
    }
   ],
   "source": [
    "%%HTML\n",
    "<style>\n",
    "  div.prompt {display:none}\n",
    "  li {color:black; font-size:large; line-height: 150%;}\n",
    "  p {color:black; font-size:large; line-height: 150%;}\n",
    "  p.k {color:black; font-size:110%; font-family: Consolas, monaco, monospace;}\n",
    "  ul {list-style-type: none;}\n",
    "</style>"
   ]
  },
  {
   "cell_type": "markdown",
   "metadata": {},
   "source": [
    "### SYSTEM PATH"
   ]
  },
  {
   "cell_type": "code",
   "execution_count": 2,
   "metadata": {},
   "outputs": [
    {
     "name": "stdout",
     "output_type": "stream",
     "text": [
      "\n",
      "SYSTEM PATH BEFORE\n",
      " ['/home/kurt/work/gps-satellites/jupyter', '/home/kurt/anaconda3/lib/python38.zip', '/home/kurt/anaconda3/lib/python3.8', '/home/kurt/anaconda3/lib/python3.8/lib-dynload', '', '/home/kurt/anaconda3/lib/python3.8/site-packages', '/home/kurt/anaconda3/lib/python3.8/site-packages/IPython/extensions', '/home/kurt/.ipython']\n",
      "\n",
      "SYSTEM PATH AFTER\n",
      " ['/home/kurt/work/gps-satellites/jupyter/lib', '/home/kurt/work/gps-satellites/jupyter', '/home/kurt/anaconda3/lib/python38.zip', '/home/kurt/anaconda3/lib/python3.8', '/home/kurt/anaconda3/lib/python3.8/lib-dynload', '', '/home/kurt/anaconda3/lib/python3.8/site-packages', '/home/kurt/anaconda3/lib/python3.8/site-packages/IPython/extensions', '/home/kurt/.ipython']\n"
     ]
    }
   ],
   "source": [
    "import sys, os\n",
    "print(\"\\nSYSTEM PATH BEFORE\\n\", sys.path)\n",
    "path_extend = os.path.abspath('./lib')\n",
    "if path_extend not in sys.path:\n",
    "    sys.path.insert(0, path_extend)\n",
    "print(\"\\nSYSTEM PATH AFTER\\n\", sys.path)"
   ]
  },
  {
   "cell_type": "markdown",
   "metadata": {},
   "source": [
    "### CURRENT WORKING DIRECTORY"
   ]
  },
  {
   "cell_type": "code",
   "execution_count": 3,
   "metadata": {},
   "outputs": [
    {
     "name": "stdout",
     "output_type": "stream",
     "text": [
      "\n",
      "Current Working Directory is /home/kurt/work/gps-satellites/jupyter\n"
     ]
    }
   ],
   "source": [
    "import classes\n",
    "\n",
    "util = classes.util()\n",
    "util.getCwd()"
   ]
  },
  {
   "cell_type": "markdown",
   "metadata": {},
   "source": [
    "### IMPORTS"
   ]
  },
  {
   "cell_type": "code",
   "execution_count": 4,
   "metadata": {},
   "outputs": [],
   "source": [
    "%matplotlib inline\n",
    "import matplotlib\n",
    "import matplotlib.pyplot as plt\n",
    "import numpy as np\n",
    "import pandas as pd\n",
    "from ipywidgets import interact\n",
    "import ipywidgets as widgets"
   ]
  },
  {
   "cell_type": "markdown",
   "metadata": {},
   "source": [
    "<hr style=\"height:4px; border:none; color:black; background-color:black;\">"
   ]
  },
  {
   "cell_type": "markdown",
   "metadata": {},
   "source": [
    "<h1><center><u>Objects in Earth Orbit</u></center></h1>\n",
    "\n",
    "1. [Project Description](#pc1)  \n",
    "    1.1 [Background](#pc1)  \n",
    "    1.2 [Project Capabilities](#pc2)  \n",
    "    1.3 [Questions That Can Be Answered Using These Capabilities](#pc3)  \n",
    "    <br>\n",
    "2. [Python Classes](#cl1)  \n",
    "    2.1 [Class to Download Orbital Data and Transform to a Dataframe](#cl1)  \n",
    "    2.2 [Class to Display Plots of the Orbital Data](#cl2)  \n",
    "    <br>\n",
    "3. [Activity](#ac1)  \n",
    "    3.1 [Download Measurements](#ac1)  \n",
    "    3.2 [Example of the GPS Satellite Data](#ac2)  \n",
    "    3.3 [An Interactive Plot of Orbital Data](#ac3)  "
   ]
  },
  {
   "cell_type": "markdown",
   "metadata": {},
   "source": [
    "<a id=\"pc1\"></a>\n",
    "<hr style=\"height:4px; border:none; color:black; background-color:black;\">\n",
    "\n",
    "# 1. Project Description\n",
    "## 1.1 Background"
   ]
  },
  {
   "cell_type": "code",
   "execution_count": 5,
   "metadata": {},
   "outputs": [
    {
     "data": {
      "image/jpeg": "[encoded data removed]",
      "text/plain": [
       "<IPython.core.display.Image object>"
      ]
     },
     "execution_count": 5,
     "metadata": {},
     "output_type": "execute_result"
    }
   ],
   "source": [
    "from IPython import display \n",
    "display.Image(\"data/7423_640.jpg\")\n"
   ]
  },
  {
   "cell_type": "markdown",
   "metadata": {},
   "source": [
    "### There are many types of objects in orbit around the earth:\n",
    "\n",
    "* Communication satellites\n",
    "* GPS satellites\n",
    "* Weather satellites\n",
    "* Scientific satellites\n",
    "* Space debris\n",
    "* The International Space Station\n",
    "* The Hubble Space Telescope\n",
    "\n",
    "> [What Is An Orbit?](https://www.nasa.gov/audience/forstudents/5-8/features/nasa-knows/what-is-orbit-58.html)\n",
    "\n",
    "The positions of these objects in orbit are being monitored continuously using ground monitor stations and near space radar. Current and historical information related to orbitting objects is mostly public and available from certain websites, for example:\n",
    "\n",
    "> [NORAD Current Orbital Data](https://celestrak.com/NORAD/elements/)  \n",
    "> [NORAD Archives](https://celestrak.com/NORAD/archives/)\n",
    "\n",
    "Sometimes a satellite must be repositioned. For example, GPS satellites must maintain positions relative to each other. \n",
    "\n",
    "> [Repositioning Satellites](https://www.satsig.net/orbit-research/geo-orbit-repositioning.htm)\n",
    "\n",
    "The following link shows that satellite positions are publically available and can be received in real-time:\n",
    "\n",
    "> [Real-Time Satellite Locations](https://in-the-sky.org/satmap_worldmap.php)"
   ]
  },
  {
   "cell_type": "markdown",
   "metadata": {},
   "source": [
    "### GPS Satellites\n",
    "\n",
    "There are currently 30 satellites in the GPS constellation contained in 6 orbital planes. Each GPS satellite orbits twice per 24 hour day around the earth. The goal of the GPS constellation is to make sure that at least 4 GPS satellites are covering every point on the earth at any one time.\n",
    "\n",
    "The current GPS satellite data is presented in CSV format by the URL\n",
    "> https://celestrak.com/NORAD/elements/gp.php?GROUP=GPS-OPS&FORMAT=CSV\n",
    "\n",
    "### Chinese Anti-Satellite Missile Test Debris\n",
    "\n",
    "There also exist much space debris (for various reasons) orbiting the earth. For example, a large pattern of space debris was created in 2007 when the Chinese intentionally destroyed its own satellite. The locations of satellites and space debris are mostly public information. \n",
    "\n",
    "The current location of the Chinese debris is available at\n",
    "> https://celestrak.com/NORAD/elements/gp.php?GROUP=1999-025&FORMAT=csv\""
   ]
  },
  {
   "cell_type": "markdown",
   "metadata": {},
   "source": [
    "<a id=\"pc2\"></a>\n",
    "<hr style=\"height:4px; border:none; color:black; background-color:black;\">\n",
    "\n",
    "## 1.2 Project Capabilities\n",
    "\n",
    "<p style=\"color:green; font-style:italic; font-weight:bold;\">This project proposes to monitor GPS satellite locations and their positions in space relative to each other and to space debris. The goal of this project is to determine how close each GPS satellite tracks along its intended orbit and also how close space debris might come to our essential GPS fleet.</p>\n",
    "\n",
    "### Accumulate Orbital Data\n",
    "This project shall accumulate daily measurements of GPS and Space Debris positions at specific times. Orbital data is recorded in the format called Two-Line Element Set (TLE). The fields of each record specify time, position and trajectory along the elliptical orbit. Some websites are capable of converting the TLE records into CSV format containing the same information.\n",
    "\n",
    "The TLE format is concise and useful to the scientific community. If a line is drawn from the center of the earth to the orbital object, it determines a latitude and longitude on the surface of the earth. It also determines an altitude. The TLE data will be converted to a more user friendly latitude/longitude/altitude.\n",
    "### Predict Measurement to Future Time\n",
    "Based on accumulated measurements, the project shall be capable of predicting the expected position of the orbital object at some time in the near future. For example, determine the expected position of a particular GPS satellite at each hour for the next 12 hours.\n",
    "### Determine Distance Between Orbital Objects\n",
    "Based on accumulated measurements, the project shall be capable of predicting the distance between two orbital objects at some time in the near future. For example, determine the estimated separation between a particular GPS satellite and a particular space debris at a certain time."
   ]
  },
  {
   "cell_type": "markdown",
   "metadata": {},
   "source": [
    "<a id=\"pc3\"></a>\n",
    "<hr style=\"height:4px; border:none; color:black; background-color:black;\">\n",
    "\n",
    "<a id=\"pc2\"></a>\n",
    "## 1.3 Questions That Can Be Answered Using These Capabilities \n",
    "<a id=\"pc2\"></a>\n",
    "* Is a GPS satellite moving outside of its designated orbit?\n",
    "* Is a GPS satellite too close or too far from adjacent satellites in its orbit?\n",
    "* Predict if it is likely that a GPS satellite will be repositioned by the Space Operations Squadron within the next 10 days.\n",
    "* For a particular GPS satellite, what are the 100 closest debris objects at the current time?\n",
    "* Predict the likelihood of space debris entering a danger zone around a GPS satellite.\n",
    "* Estimate the probability that a particular debris object is associated with a particular debris cloud\n",
    "* Based on the kinetic energy of a debris object, when is it likely that the debris object will enter the earth's atmosphere?\n",
    "* What is the likelihood that a space debris object or a retired satellite will reach the earth? When and where?"
   ]
  },
  {
   "cell_type": "markdown",
   "metadata": {},
   "source": [
    "<a id=\"cl1\"></a>\n",
    "<hr style=\"height:4px; border:none; color:black; background-color:black;\">\n",
    "\n",
    "# 2. Python Classes\n",
    "## 2.1 Class to Download Orbital Data and Transform to a Dataframe"
   ]
  },
  {
   "cell_type": "code",
   "execution_count": 6,
   "metadata": {},
   "outputs": [],
   "source": [
    "import pycurl, csv\n",
    "from io import BytesIO\n",
    "\n",
    "\"\"\"\n",
    "CsvToDataFrame\n",
    "\"\"\"\n",
    "\n",
    "class CsvToDataFrame(object):\n",
    "    \n",
    "    csv_file = 'data/Artworks.csv'\n",
    "\n",
    "    def __init__(self, url, csvFile):\n",
    "        self.url = url\n",
    "        self.csvFile = csvFile\n",
    "        pass\n",
    "\n",
    "    def downloadCsvFile(self):\n",
    "        # buffer to receive the data\n",
    "        buffer = BytesIO()\n",
    "\n",
    "        # read into the buffer\n",
    "        c = pycurl.Curl()\n",
    "        c.setopt(c.URL, self.url)\n",
    "        c.setopt(c.WRITEDATA, buffer)\n",
    "        c.perform()\n",
    "        c.close()\n",
    "\n",
    "        # obtain the content\n",
    "        content = buffer.getvalue()\n",
    "\n",
    "        # write to the CSV file\n",
    "        with open(self.csvFile, 'w') as f:\n",
    "            print(content.decode('iso-8859-1'), file=f)\n",
    "\n",
    "        # show result\n",
    "        fullPath = os.path.abspath(csvFile)\n",
    "        file = open(fullPath)\n",
    "        reader = csv.reader(file)\n",
    "        numberRecords = len(list(reader))\n",
    "        print(f'\\n{numberRecords} records have been downloaded to the file: {fullPath}')\n",
    "        \n",
    "    def remove_spaces(self, colname):\n",
    "        return colname.strip().replace(' ','_')\n",
    "\n",
    "    def convertToDataFrame(self):\n",
    "        self.orig = pd.read_csv(self.csvFile)\n",
    "        self.orig.rename(columns = self.remove_spaces, inplace=True)\n",
    "\n",
    "    def transformColumns(self):\n",
    "        # extract date/time column\n",
    "        self.df = self.orig.assign(\n",
    "            date_time = lambda this : this.EPOCH.str[0:16].str.replace(\"T\", \" \"))\n",
    "\n",
    "        # extract the PRN\n",
    "        self.df[\"PRN\"] = (\n",
    "            self.df[\"OBJECT_NAME\"].str.replace(\".*PRN\", \"PRN\", regex=True)\n",
    "                                  .str.replace(\"\\).*\", \"\", regex=True)) \n",
    "\n",
    "        # select the columns of interest\n",
    "        self.df = self.df.loc[:, ['date_time', 'OBJECT_NAME', 'PRN', 'ARG_OF_PERICENTER', 'RA_OF_ASC_NODE']]\n",
    "\n",
    "        # sort the columns by date and time\n",
    "        self.df.sort_values(by=['date_time'], ascending=True, inplace=True)\n",
    "        \n",
    "    def text(self):\n",
    "        print(f'Index is:\\n{gps.df.index}',\n",
    "              f'Columns are:\\n{gps.df.columns}',\n",
    "              f'Values are:\\n{gps.df.values[0:3]}', sep='\\n\\n')"
   ]
  },
  {
   "cell_type": "markdown",
   "metadata": {},
   "source": [
    "<a id=\"cl2\"></a>\n",
    "<hr style=\"height:4px; border:none; color:black; background-color:black;\">\n",
    "\n",
    "## 2.2 Class to Display Plots of the Orbital Data"
   ]
  },
  {
   "cell_type": "code",
   "execution_count": 7,
   "metadata": {},
   "outputs": [],
   "source": [
    "\n",
    "\"\"\"\n",
    "Plotting\n",
    "\"\"\"\n",
    "class Plotting(object):\n",
    "    \n",
    "    linestyles = ['-', '--', '-.', ':', ':o']\n",
    "\n",
    "    def __init__(self):\n",
    "        pass\n",
    "\n",
    "    def plotReset(self):\n",
    "        plt.clf # clear figure\n",
    "        plt.cla # clear axes\n",
    "        plt.figure(figsize=(15,15)) # this also clears the previous plot\n",
    "\n",
    "    def plotScatter(self, xColumn, yColumn, dataframe, color=None):\n",
    "        if False: plt.scatter(env[xColumn], env[yColumn], alpha=1.0, zorder=2)\n",
    "        if False: plt.plot(env[xColumn], env[yColumn], linestyle='dotted', alpha=0.8, zorder=1)\n",
    "        plt.plot(dataframe[xColumn], dataframe[yColumn], 'o', alpha=1.0, color=color)\n",
    "\n",
    "    def plotFormats(self, title, xLabel, yLabel, legend, \n",
    "                    xLim = (None,None), \n",
    "                    yLim = (None,None),\n",
    "                    xTicks = (None,None,None), \n",
    "                    yTicks = (None,None,None)):\n",
    "        plt.xlabel(xLabel, fontsize=15, color='darkblue')\n",
    "        plt.ylabel(yLabel, fontsize=15, color='darkblue')\n",
    "        plt.xlim(xLim[0], xLim[1])\n",
    "        plt.ylim(yLim[0], yLim[1])\n",
    "        plt.title(title, fontsize=15, color='darkblue');\n",
    "        plt.grid(True)\n",
    "        plt.legend(legend[0], loc=legend[1])\n",
    "        plt.xticks(fontsize=14, rotation=45)\n",
    "        plt.yticks(fontsize=14, rotation=45)\n",
    "        if xTicks[0] != None:\n",
    "            plt.xticks(np.arange(xTicks[0], xTicks[1], step=xTicks[2]))\n",
    "        if yTicks[0] != None:\n",
    "            plt.yticks(np.arange(yTicks[0], yTicks[1], step=yTicks[2]))\n",
    "        return\n",
    "    \n",
    "    def labelPoints(self, df):\n",
    "        for i in df.index:\n",
    "            plt.text(df['RA_OF_ASC_NODE'][i] + 1.5,    # X location\n",
    "                     df['ARG_OF_PERICENTER'][i] + 1.5, # Y location\n",
    "                     df['PRN'][i] + '\\n' +             # text\n",
    "                     df['date_time'][i][5:].replace('-','/'),\n",
    "                     horizontalalignment='left')\n",
    "\n",
    "    def showLabels(self, df):  \n",
    "        for i in df.index:\n",
    "            print(f\"{df['RA_OF_ASC_NODE'][i]:>10}   \"\n",
    "                  f\"{df['ARG_OF_PERICENTER'][i]:>10}   \"\n",
    "                  f\"{df['PRN'][i]:>10}\")\n",
    " "
   ]
  },
  {
   "cell_type": "markdown",
   "metadata": {},
   "source": [
    "<a id=\"ac1\"></a>\n",
    "<hr style=\"height:4px; border:none; color:black; background-color:black;\">\n",
    "\n",
    "# 3. Activity\n",
    "## 3.1 Download Measurements"
   ]
  },
  {
   "cell_type": "markdown",
   "metadata": {},
   "source": [
    "### Download GPS Satelite Data"
   ]
  },
  {
   "cell_type": "code",
   "execution_count": 8,
   "metadata": {},
   "outputs": [
    {
     "name": "stdout",
     "output_type": "stream",
     "text": [
      "\n",
      "32 records have been downloaded to the file: /home/kurt/work/gps-satellites/jupyter/data/gps-today.csv\n"
     ]
    }
   ],
   "source": [
    "url = \"https://celestrak.com/NORAD/elements/gp.php?GROUP=GPS-OPS&FORMAT=CSV\"\n",
    "csvFile = 'data/gps-today.csv'\n",
    "gps = CsvToDataFrame(url, csvFile)\n",
    "gps.downloadCsvFile()\n",
    "gps.convertToDataFrame()\n",
    "gps.transformColumns()"
   ]
  },
  {
   "cell_type": "markdown",
   "metadata": {},
   "source": [
    "### Download Chinese Anti-Satellite Missile Test Debris"
   ]
  },
  {
   "cell_type": "code",
   "execution_count": 9,
   "metadata": {},
   "outputs": [
    {
     "name": "stdout",
     "output_type": "stream",
     "text": [
      "\n",
      "2626 records have been downloaded to the file: /home/kurt/work/gps-satellites/jupyter/data/debris-today.csv\n"
     ]
    }
   ],
   "source": [
    "url = \"https://celestrak.com/NORAD/elements/gp.php?GROUP=1999-025&FORMAT=csv\"\n",
    "csvFile = 'data/debris-today.csv'\n",
    "debris = CsvToDataFrame(url, csvFile)\n",
    "debris.downloadCsvFile()\n",
    "debris.convertToDataFrame()\n",
    "debris.transformColumns()"
   ]
  },
  {
   "cell_type": "markdown",
   "metadata": {},
   "source": [
    "### Download Space Stations Including The International Space Station"
   ]
  },
  {
   "cell_type": "code",
   "execution_count": 10,
   "metadata": {},
   "outputs": [
    {
     "name": "stdout",
     "output_type": "stream",
     "text": [
      "\n",
      "71 records have been downloaded to the file: /home/kurt/work/gps-satellites/jupyter/data/iss-today.csv\n"
     ]
    },
    {
     "data": {
      "text/html": [
       "<div>\n",
       "<style scoped>\n",
       "    .dataframe tbody tr th:only-of-type {\n",
       "        vertical-align: middle;\n",
       "    }\n",
       "\n",
       "    .dataframe tbody tr th {\n",
       "        vertical-align: top;\n",
       "    }\n",
       "\n",
       "    .dataframe thead th {\n",
       "        text-align: right;\n",
       "    }\n",
       "</style>\n",
       "<table border=\"1\" class=\"dataframe\">\n",
       "  <thead>\n",
       "    <tr style=\"text-align: right;\">\n",
       "      <th></th>\n",
       "      <th>date_time</th>\n",
       "      <th>OBJECT_NAME</th>\n",
       "      <th>PRN</th>\n",
       "      <th>ARG_OF_PERICENTER</th>\n",
       "      <th>RA_OF_ASC_NODE</th>\n",
       "    </tr>\n",
       "  </thead>\n",
       "  <tbody>\n",
       "    <tr>\n",
       "      <th>0</th>\n",
       "      <td>2021-03-01 13:23</td>\n",
       "      <td>ISS (ZARYA)</td>\n",
       "      <td>ISS (ZARYA</td>\n",
       "      <td>62.8763</td>\n",
       "      <td>155.0683</td>\n",
       "    </tr>\n",
       "  </tbody>\n",
       "</table>\n",
       "</div>"
      ],
      "text/plain": [
       "          date_time  OBJECT_NAME         PRN  ARG_OF_PERICENTER  \\\n",
       "0  2021-03-01 13:23  ISS (ZARYA)  ISS (ZARYA            62.8763   \n",
       "\n",
       "   RA_OF_ASC_NODE  \n",
       "0        155.0683  "
      ]
     },
     "execution_count": 10,
     "metadata": {},
     "output_type": "execute_result"
    }
   ],
   "source": [
    "url = \"https://celestrak.com/NORAD/elements/gp.php?GROUP=stations&FORMAT=csv\"\n",
    "csvFile = 'data/iss-today.csv'\n",
    "iss = CsvToDataFrame(url, csvFile)\n",
    "iss.downloadCsvFile()\n",
    "iss.convertToDataFrame()\n",
    "iss.transformColumns()\n",
    "\n",
    "zarya = iss.df.loc[iss.df['OBJECT_NAME'].str.contains(\"ISS\") &\n",
    "                   iss.df['OBJECT_NAME'].str.contains(\"ZARYA\")]\n",
    "zarya"
   ]
  },
  {
   "cell_type": "markdown",
   "metadata": {},
   "source": [
    "<a id=\"ac2\"></a>\n",
    "<hr style=\"height:4px; border:none; color:black; background-color:black;\">\n",
    "\n",
    "## 3.2 Example of the GPS Satellite Data"
   ]
  },
  {
   "cell_type": "code",
   "execution_count": 11,
   "metadata": {
    "scrolled": false
   },
   "outputs": [
    {
     "data": {
      "text/html": [
       "<div>\n",
       "<style scoped>\n",
       "    .dataframe tbody tr th:only-of-type {\n",
       "        vertical-align: middle;\n",
       "    }\n",
       "\n",
       "    .dataframe tbody tr th {\n",
       "        vertical-align: top;\n",
       "    }\n",
       "\n",
       "    .dataframe thead th {\n",
       "        text-align: right;\n",
       "    }\n",
       "</style>\n",
       "<table border=\"1\" class=\"dataframe\">\n",
       "  <thead>\n",
       "    <tr style=\"text-align: right;\">\n",
       "      <th></th>\n",
       "      <th>date_time</th>\n",
       "      <th>OBJECT_NAME</th>\n",
       "      <th>PRN</th>\n",
       "      <th>ARG_OF_PERICENTER</th>\n",
       "      <th>RA_OF_ASC_NODE</th>\n",
       "    </tr>\n",
       "  </thead>\n",
       "  <tbody>\n",
       "    <tr>\n",
       "      <th>23</th>\n",
       "      <td>2021-02-23 02:10</td>\n",
       "      <td>GPS BIIF-9  (PRN 26)</td>\n",
       "      <td>PRN 26</td>\n",
       "      <td>13.4005</td>\n",
       "      <td>284.5302</td>\n",
       "    </tr>\n",
       "    <tr>\n",
       "      <th>18</th>\n",
       "      <td>2021-02-25 04:55</td>\n",
       "      <td>GPS BIIF-4  (PRN 27)</td>\n",
       "      <td>PRN 27</td>\n",
       "      <td>32.0490</td>\n",
       "      <td>346.7920</td>\n",
       "    </tr>\n",
       "    <tr>\n",
       "      <th>22</th>\n",
       "      <td>2021-02-26 22:37</td>\n",
       "      <td>GPS BIIF-8  (PRN 03)</td>\n",
       "      <td>PRN 03</td>\n",
       "      <td>45.0125</td>\n",
       "      <td>106.7685</td>\n",
       "    </tr>\n",
       "    <tr>\n",
       "      <th>16</th>\n",
       "      <td>2021-02-27 02:24</td>\n",
       "      <td>GPS BIIF-2  (PRN 01)</td>\n",
       "      <td>PRN 01</td>\n",
       "      <td>46.0343</td>\n",
       "      <td>47.2678</td>\n",
       "    </tr>\n",
       "    <tr>\n",
       "      <th>19</th>\n",
       "      <td>2021-02-27 16:45</td>\n",
       "      <td>GPS BIIF-5  (PRN 30)</td>\n",
       "      <td>PRN 30</td>\n",
       "      <td>199.7200</td>\n",
       "      <td>228.2848</td>\n",
       "    </tr>\n",
       "    <tr>\n",
       "      <th>10</th>\n",
       "      <td>2021-02-27 22:14</td>\n",
       "      <td>GPS BIIRM-3 (PRN 12)</td>\n",
       "      <td>PRN 12</td>\n",
       "      <td>66.9206</td>\n",
       "      <td>290.7936</td>\n",
       "    </tr>\n",
       "    <tr>\n",
       "      <th>20</th>\n",
       "      <td>2021-02-27 23:24</td>\n",
       "      <td>GPS BIIF-6  (PRN 06)</td>\n",
       "      <td>PRN 06</td>\n",
       "      <td>296.8310</td>\n",
       "      <td>46.7606</td>\n",
       "    </tr>\n",
       "    <tr>\n",
       "      <th>11</th>\n",
       "      <td>2021-02-28 05:50</td>\n",
       "      <td>GPS BIIRM-4 (PRN 15)</td>\n",
       "      <td>PRN 15</td>\n",
       "      <td>54.9842</td>\n",
       "      <td>160.1938</td>\n",
       "    </tr>\n",
       "    <tr>\n",
       "      <th>14</th>\n",
       "      <td>2021-02-28 06:12</td>\n",
       "      <td>GPS BIIRM-8 (PRN 05)</td>\n",
       "      <td>PRN 05</td>\n",
       "      <td>48.9752</td>\n",
       "      <td>104.6723</td>\n",
       "    </tr>\n",
       "    <tr>\n",
       "      <th>12</th>\n",
       "      <td>2021-02-28 07:49</td>\n",
       "      <td>GPS BIIRM-5 (PRN 29)</td>\n",
       "      <td>PRN 29</td>\n",
       "      <td>127.3233</td>\n",
       "      <td>350.8184</td>\n",
       "    </tr>\n",
       "    <tr>\n",
       "      <th>4</th>\n",
       "      <td>2021-02-28 08:24</td>\n",
       "      <td>GPS BIIR-9  (PRN 21)</td>\n",
       "      <td>PRN 21</td>\n",
       "      <td>292.0028</td>\n",
       "      <td>42.5581</td>\n",
       "    </tr>\n",
       "    <tr>\n",
       "      <th>3</th>\n",
       "      <td>2021-02-28 08:32</td>\n",
       "      <td>GPS BIIR-8  (PRN 16)</td>\n",
       "      <td>PRN 16</td>\n",
       "      <td>36.7965</td>\n",
       "      <td>291.8531</td>\n",
       "    </tr>\n",
       "    <tr>\n",
       "      <th>26</th>\n",
       "      <td>2021-02-28 09:00</td>\n",
       "      <td>GPS BIIF-12 (PRN 32)</td>\n",
       "      <td>PRN 32</td>\n",
       "      <td>223.1003</td>\n",
       "      <td>166.2832</td>\n",
       "    </tr>\n",
       "    <tr>\n",
       "      <th>5</th>\n",
       "      <td>2021-02-28 09:39</td>\n",
       "      <td>GPS BIIR-10 (PRN 22)</td>\n",
       "      <td>PRN 22</td>\n",
       "      <td>300.1872</td>\n",
       "      <td>101.1893</td>\n",
       "    </tr>\n",
       "    <tr>\n",
       "      <th>6</th>\n",
       "      <td>2021-02-28 09:39</td>\n",
       "      <td>GPS BIIR-11 (PRN 19)</td>\n",
       "      <td>PRN 19</td>\n",
       "      <td>102.5783</td>\n",
       "      <td>352.7046</td>\n",
       "    </tr>\n",
       "    <tr>\n",
       "      <th>21</th>\n",
       "      <td>2021-02-28 13:26</td>\n",
       "      <td>GPS BIIF-7  (PRN 09)</td>\n",
       "      <td>PRN 09</td>\n",
       "      <td>106.2293</td>\n",
       "      <td>165.7229</td>\n",
       "    </tr>\n",
       "    <tr>\n",
       "      <th>8</th>\n",
       "      <td>2021-02-28 14:43</td>\n",
       "      <td>GPS BIIRM-1 (PRN 17)</td>\n",
       "      <td>PRN 17</td>\n",
       "      <td>269.7105</td>\n",
       "      <td>350.1033</td>\n",
       "    </tr>\n",
       "    <tr>\n",
       "      <th>29</th>\n",
       "      <td>2021-02-28 17:50</td>\n",
       "      <td>GPS BIII-3  (PRN 23)</td>\n",
       "      <td>PRN 23</td>\n",
       "      <td>150.6073</td>\n",
       "      <td>105.2106</td>\n",
       "    </tr>\n",
       "    <tr>\n",
       "      <th>7</th>\n",
       "      <td>2021-02-28 18:34</td>\n",
       "      <td>GPS BIIR-13 (PRN 02)</td>\n",
       "      <td>PRN 02</td>\n",
       "      <td>271.6603</td>\n",
       "      <td>42.5043</td>\n",
       "    </tr>\n",
       "    <tr>\n",
       "      <th>17</th>\n",
       "      <td>2021-02-28 19:53</td>\n",
       "      <td>GPS BIIF-3  (PRN 24)</td>\n",
       "      <td>PRN 24</td>\n",
       "      <td>41.0767</td>\n",
       "      <td>222.7781</td>\n",
       "    </tr>\n",
       "    <tr>\n",
       "      <th>9</th>\n",
       "      <td>2021-02-28 23:50</td>\n",
       "      <td>GPS BIIRM-2 (PRN 31)</td>\n",
       "      <td>PRN 31</td>\n",
       "      <td>13.0786</td>\n",
       "      <td>228.1288</td>\n",
       "    </tr>\n",
       "    <tr>\n",
       "      <th>13</th>\n",
       "      <td>2021-03-01 03:32</td>\n",
       "      <td>GPS BIIRM-6 (PRN 07)</td>\n",
       "      <td>PRN 07</td>\n",
       "      <td>225.9469</td>\n",
       "      <td>227.1663</td>\n",
       "    </tr>\n",
       "    <tr>\n",
       "      <th>0</th>\n",
       "      <td>2021-03-01 05:00</td>\n",
       "      <td>GPS BIIR-2  (PRN 13)</td>\n",
       "      <td>PRN 13</td>\n",
       "      <td>56.8727</td>\n",
       "      <td>174.1340</td>\n",
       "    </tr>\n",
       "    <tr>\n",
       "      <th>28</th>\n",
       "      <td>2021-03-01 05:05</td>\n",
       "      <td>GPS BIII-2  (PRN 18)</td>\n",
       "      <td>PRN 18</td>\n",
       "      <td>184.8614</td>\n",
       "      <td>47.9329</td>\n",
       "    </tr>\n",
       "    <tr>\n",
       "      <th>15</th>\n",
       "      <td>2021-03-01 05:07</td>\n",
       "      <td>GPS BIIF-1  (PRN 25)</td>\n",
       "      <td>PRN 25</td>\n",
       "      <td>53.4766</td>\n",
       "      <td>286.5947</td>\n",
       "    </tr>\n",
       "    <tr>\n",
       "      <th>24</th>\n",
       "      <td>2021-03-01 05:42</td>\n",
       "      <td>GPS BIIF-10 (PRN 08)</td>\n",
       "      <td>PRN 08</td>\n",
       "      <td>357.0774</td>\n",
       "      <td>345.6854</td>\n",
       "    </tr>\n",
       "    <tr>\n",
       "      <th>25</th>\n",
       "      <td>2021-03-01 06:44</td>\n",
       "      <td>GPS BIIF-11 (PRN 10)</td>\n",
       "      <td>PRN 10</td>\n",
       "      <td>213.6456</td>\n",
       "      <td>106.5081</td>\n",
       "    </tr>\n",
       "    <tr>\n",
       "      <th>27</th>\n",
       "      <td>2021-03-01 10:08</td>\n",
       "      <td>GPS BIII-1  (PRN 04)</td>\n",
       "      <td>PRN 04</td>\n",
       "      <td>199.8762</td>\n",
       "      <td>168.5608</td>\n",
       "    </tr>\n",
       "    <tr>\n",
       "      <th>1</th>\n",
       "      <td>2021-03-01 10:56</td>\n",
       "      <td>GPS BIIR-4  (PRN 20)</td>\n",
       "      <td>PRN 20</td>\n",
       "      <td>166.4970</td>\n",
       "      <td>98.4791</td>\n",
       "    </tr>\n",
       "    <tr>\n",
       "      <th>2</th>\n",
       "      <td>2021-03-01 11:30</td>\n",
       "      <td>GPS BIIR-5  (PRN 28)</td>\n",
       "      <td>PRN 28</td>\n",
       "      <td>282.5958</td>\n",
       "      <td>292.0137</td>\n",
       "    </tr>\n",
       "  </tbody>\n",
       "</table>\n",
       "</div>"
      ],
      "text/plain": [
       "           date_time           OBJECT_NAME     PRN  ARG_OF_PERICENTER  \\\n",
       "23  2021-02-23 02:10  GPS BIIF-9  (PRN 26)  PRN 26            13.4005   \n",
       "18  2021-02-25 04:55  GPS BIIF-4  (PRN 27)  PRN 27            32.0490   \n",
       "22  2021-02-26 22:37  GPS BIIF-8  (PRN 03)  PRN 03            45.0125   \n",
       "16  2021-02-27 02:24  GPS BIIF-2  (PRN 01)  PRN 01            46.0343   \n",
       "19  2021-02-27 16:45  GPS BIIF-5  (PRN 30)  PRN 30           199.7200   \n",
       "10  2021-02-27 22:14  GPS BIIRM-3 (PRN 12)  PRN 12            66.9206   \n",
       "20  2021-02-27 23:24  GPS BIIF-6  (PRN 06)  PRN 06           296.8310   \n",
       "11  2021-02-28 05:50  GPS BIIRM-4 (PRN 15)  PRN 15            54.9842   \n",
       "14  2021-02-28 06:12  GPS BIIRM-8 (PRN 05)  PRN 05            48.9752   \n",
       "12  2021-02-28 07:49  GPS BIIRM-5 (PRN 29)  PRN 29           127.3233   \n",
       "4   2021-02-28 08:24  GPS BIIR-9  (PRN 21)  PRN 21           292.0028   \n",
       "3   2021-02-28 08:32  GPS BIIR-8  (PRN 16)  PRN 16            36.7965   \n",
       "26  2021-02-28 09:00  GPS BIIF-12 (PRN 32)  PRN 32           223.1003   \n",
       "5   2021-02-28 09:39  GPS BIIR-10 (PRN 22)  PRN 22           300.1872   \n",
       "6   2021-02-28 09:39  GPS BIIR-11 (PRN 19)  PRN 19           102.5783   \n",
       "21  2021-02-28 13:26  GPS BIIF-7  (PRN 09)  PRN 09           106.2293   \n",
       "8   2021-02-28 14:43  GPS BIIRM-1 (PRN 17)  PRN 17           269.7105   \n",
       "29  2021-02-28 17:50  GPS BIII-3  (PRN 23)  PRN 23           150.6073   \n",
       "7   2021-02-28 18:34  GPS BIIR-13 (PRN 02)  PRN 02           271.6603   \n",
       "17  2021-02-28 19:53  GPS BIIF-3  (PRN 24)  PRN 24            41.0767   \n",
       "9   2021-02-28 23:50  GPS BIIRM-2 (PRN 31)  PRN 31            13.0786   \n",
       "13  2021-03-01 03:32  GPS BIIRM-6 (PRN 07)  PRN 07           225.9469   \n",
       "0   2021-03-01 05:00  GPS BIIR-2  (PRN 13)  PRN 13            56.8727   \n",
       "28  2021-03-01 05:05  GPS BIII-2  (PRN 18)  PRN 18           184.8614   \n",
       "15  2021-03-01 05:07  GPS BIIF-1  (PRN 25)  PRN 25            53.4766   \n",
       "24  2021-03-01 05:42  GPS BIIF-10 (PRN 08)  PRN 08           357.0774   \n",
       "25  2021-03-01 06:44  GPS BIIF-11 (PRN 10)  PRN 10           213.6456   \n",
       "27  2021-03-01 10:08  GPS BIII-1  (PRN 04)  PRN 04           199.8762   \n",
       "1   2021-03-01 10:56  GPS BIIR-4  (PRN 20)  PRN 20           166.4970   \n",
       "2   2021-03-01 11:30  GPS BIIR-5  (PRN 28)  PRN 28           282.5958   \n",
       "\n",
       "    RA_OF_ASC_NODE  \n",
       "23        284.5302  \n",
       "18        346.7920  \n",
       "22        106.7685  \n",
       "16         47.2678  \n",
       "19        228.2848  \n",
       "10        290.7936  \n",
       "20         46.7606  \n",
       "11        160.1938  \n",
       "14        104.6723  \n",
       "12        350.8184  \n",
       "4          42.5581  \n",
       "3         291.8531  \n",
       "26        166.2832  \n",
       "5         101.1893  \n",
       "6         352.7046  \n",
       "21        165.7229  \n",
       "8         350.1033  \n",
       "29        105.2106  \n",
       "7          42.5043  \n",
       "17        222.7781  \n",
       "9         228.1288  \n",
       "13        227.1663  \n",
       "0         174.1340  \n",
       "28         47.9329  \n",
       "15        286.5947  \n",
       "24        345.6854  \n",
       "25        106.5081  \n",
       "27        168.5608  \n",
       "1          98.4791  \n",
       "2         292.0137  "
      ]
     },
     "execution_count": 11,
     "metadata": {},
     "output_type": "execute_result"
    }
   ],
   "source": [
    "gps.df.iloc[:,:]"
   ]
  },
  {
   "cell_type": "markdown",
   "metadata": {},
   "source": [
    "### And the label placed on each plot of a GPS satellite:"
   ]
  },
  {
   "cell_type": "code",
   "execution_count": 12,
   "metadata": {},
   "outputs": [
    {
     "name": "stdout",
     "output_type": "stream",
     "text": [
      "  284.5302      13.4005       PRN 26\n",
      "   346.792       32.049       PRN 27\n",
      "  106.7685      45.0125       PRN 03\n",
      "   47.2678      46.0343       PRN 01\n",
      "  228.2848       199.72       PRN 30\n",
      "  290.7936      66.9206       PRN 12\n",
      "   46.7606      296.831       PRN 06\n",
      "  160.1938      54.9842       PRN 15\n",
      "  104.6723      48.9752       PRN 05\n",
      "  350.8184     127.3233       PRN 29\n",
      "   42.5581     292.0028       PRN 21\n",
      "  291.8531      36.7965       PRN 16\n",
      "  166.2832     223.1003       PRN 32\n",
      "  101.1893     300.1872       PRN 22\n",
      "  352.7046     102.5783       PRN 19\n",
      "  165.7229     106.2293       PRN 09\n",
      "  350.1033     269.7105       PRN 17\n",
      "  105.2106     150.6073       PRN 23\n",
      "   42.5043     271.6603       PRN 02\n",
      "  222.7781      41.0767       PRN 24\n",
      "  228.1288      13.0786       PRN 31\n",
      "  227.1663     225.9469       PRN 07\n",
      "   174.134      56.8727       PRN 13\n",
      "   47.9329     184.8614       PRN 18\n",
      "  286.5947      53.4766       PRN 25\n",
      "  345.6854     357.0774       PRN 08\n",
      "  106.5081     213.6456       PRN 10\n",
      "  168.5608     199.8762       PRN 04\n",
      "   98.4791      166.497       PRN 20\n",
      "  292.0137     282.5958       PRN 28\n"
     ]
    }
   ],
   "source": [
    "cls = Plotting()\n",
    "cls.showLabels(gps.df)\n"
   ]
  },
  {
   "cell_type": "markdown",
   "metadata": {},
   "source": [
    "<a id=\"ac3\"></a>\n",
    "<hr style=\"height:4px; border:none; color:black; background-color:black;\">\n",
    "\n",
    "## 3.3 An Interactive Plot of Orbital Data"
   ]
  },
  {
   "cell_type": "code",
   "execution_count": 13,
   "metadata": {},
   "outputs": [
    {
     "name": "stdout",
     "output_type": "stream",
     "text": [
      "\n",
      "\n",
      "\n",
      "===============================\n",
      " SELECT OBJECTS IN EARTH ORBIT\n",
      "===============================\n",
      "\n"
     ]
    },
    {
     "data": {
      "application/vnd.jupyter.widget-view+json": {
       "model_id": "f992807436594f5f9f5547dcb1414f2f",
       "version_major": 2,
       "version_minor": 0
      },
      "text/plain": [
       "interactive(children=(Checkbox(value=True, description='GPS Satellites', indent=False), Checkbox(value=True, d…"
      ]
     },
     "metadata": {},
     "output_type": "display_data"
    }
   ],
   "source": [
    "s1 = widgets.Checkbox(value=True, description='GPS Satellites', disabled=False, indent=False)\n",
    "s2 = widgets.Checkbox(value=True, description='Space Stations', disabled=False, indent=False)\n",
    "s3 = widgets.Checkbox(value=False, description='Space Debris', disabled=False, indent=False)\n",
    "s4 = widgets.Checkbox(value=True, description='International Space Station', disabled=False, indent=False)\n",
    "s0 = widgets.Checkbox(value=True, description='SHOW ALL LABELS', disabled=False, indent=False)\n",
    "\n",
    "ui = widgets.HBox([ s1, s2, s3, s4, s0 ]) \n",
    "\n",
    "def checkBox(check1, check2, check3, check4, check0):        \n",
    "    title = \"\\nObjects in Earth Orbit\\n\"\n",
    "    xLabel = \"Azimuth (degrees)\\n\"\n",
    "    yLabel = \"Elevation (degrees)\\n\"\n",
    "    legends = []\n",
    "  \n",
    "    p = Plotting()\n",
    "    p.plotReset()\n",
    "    \n",
    "    if check1:\n",
    "        legends.append(\"GPS Satellite\");\n",
    "        p.plotScatter('RA_OF_ASC_NODE', 'ARG_OF_PERICENTER', gps.df.loc[:,:], color='Green')\n",
    "    if check2:\n",
    "        legends.append(\"Space Station\");\n",
    "        p.plotScatter('RA_OF_ASC_NODE', 'ARG_OF_PERICENTER', iss.df.loc[:,:], color='Purple')\n",
    "    if check3:\n",
    "        legends.append(\"Space Debris\");\n",
    "        p.plotScatter('RA_OF_ASC_NODE', 'ARG_OF_PERICENTER', debris.df.loc[:,:], color='red')\n",
    "    if check4:\n",
    "        legends.append(\"The International Space Station\");\n",
    "        p.plotScatter('RA_OF_ASC_NODE', 'ARG_OF_PERICENTER', zarya.loc[:,:], color='red')\n",
    "        \n",
    "    legend = (legends, 'upper left')\n",
    "    p.plotFormats(title, xLabel, yLabel, legend, xTicks = (None,None,None))\n",
    "    if check0: p.labelPoints(gps.df.loc[:,:])\n",
    "    plt.axhline(y=180, color='r', linestyle='--')\n",
    "    plt.axvline(x=180, color='r', linestyle='--')\n",
    "    plt.show()\n",
    "    \n",
    "print(f'''\n",
    "\n",
    "\n",
    "===============================\n",
    " SELECT OBJECTS IN EARTH ORBIT\n",
    "===============================\n",
    "''')\n",
    "\n",
    "interact(\n",
    "    checkBox,\n",
    "    check1=s1,\n",
    "    check2=s2,\n",
    "    check3=s3,\n",
    "    check4=s4,\n",
    "    check0=s0,\n",
    "    );"
   ]
  }
 ],
 "metadata": {
  "kernelspec": {
   "display_name": "Python 3",
   "language": "python",
   "name": "python3"
  },
  "language_info": {
   "codemirror_mode": {
    "name": "ipython",
    "version": 3
   },
   "file_extension": ".py",
   "mimetype": "text/x-python",
   "name": "python",
   "nbconvert_exporter": "python",
   "pygments_lexer": "ipython3",
   "version": "3.8.3"
  }
 },
 "nbformat": 4,
 "nbformat_minor": 4
}
