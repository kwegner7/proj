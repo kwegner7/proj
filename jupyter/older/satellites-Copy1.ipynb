{
 "cells": [
  {
   "cell_type": "markdown",
   "metadata": {},
   "source": [
    "<style>\n",
    "    p { color: red; }\n",
    "</style>"
   ]
  },
  {
   "cell_type": "markdown",
   "metadata": {},
   "source": [
    "<hr style=\"height:4px; border:none; color:black; background-color:black;\">\n",
    "\n",
    "### HTML"
   ]
  },
  {
   "cell_type": "code",
   "execution_count": null,
   "metadata": {},
   "outputs": [],
   "source": [
    "%%HTML\n",
    "<style>\n",
    "  div.prompt {display:none}\n",
    "  li {color:black; font-size:large; line-height: 150%;}\n",
    "  p {color:black; font-size:large; line-height: 150%;}\n",
    "  p.k {color:black; font-size:110%; font-family: Consolas, monaco, monospace;}\n",
    "  ul {list-style-type: none;}\n",
    "</style>"
   ]
  },
  {
   "cell_type": "markdown",
   "metadata": {},
   "source": [
    "### SYSTEM PATH"
   ]
  },
  {
   "cell_type": "code",
   "execution_count": null,
   "metadata": {},
   "outputs": [],
   "source": [
    "import sys, os\n",
    "print(\"\\nSYSTEM PATH BEFORE\\n\", sys.path)\n",
    "path_extend = os.path.abspath('./lib')\n",
    "if path_extend not in sys.path:\n",
    "    sys.path.insert(0, path_extend)\n",
    "print(\"\\nSYSTEM PATH AFTER\\n\", sys.path)"
   ]
  },
  {
   "cell_type": "markdown",
   "metadata": {},
   "source": [
    "### CURRENT WORKING DIRECTORY"
   ]
  },
  {
   "cell_type": "code",
   "execution_count": null,
   "metadata": {},
   "outputs": [],
   "source": [
    "import classes\n",
    "\n",
    "util = classes.util()\n",
    "util.getCwd()"
   ]
  },
  {
   "cell_type": "markdown",
   "metadata": {},
   "source": [
    "### IMPORTS"
   ]
  },
  {
   "cell_type": "code",
   "execution_count": null,
   "metadata": {},
   "outputs": [],
   "source": [
    "%matplotlib inline\n",
    "import matplotlib\n",
    "import matplotlib.pyplot as plt\n",
    "import numpy as np\n",
    "import pandas as pd\n",
    "from ipywidgets import interact\n",
    "import ipywidgets as widgets"
   ]
  },
  {
   "cell_type": "markdown",
   "metadata": {},
   "source": [
    "<hr style=\"height:4px; border:none; color:black; background-color:black;\">"
   ]
  },
  {
   "cell_type": "markdown",
   "metadata": {},
   "source": [
    "<h1><center><u>Objects in Earth Orbit</u></center></h1>\n",
    "\n",
    "1. [Project Description](#pc1)  \n",
    "    1.1 [Background](#pc1)  \n",
    "    1.2 [Project Capabilities](#pc2)  \n",
    "    1.3 [Questions That Can Be Answered Using These Capabilities](#pc3)  \n",
    "    <br>\n",
    "2. [GPS Satellites](#gs0)  \n",
    "    2.1 [Obtain The Raw Data](#gs1)  \n",
    "    2.2 [Transform The Data Into Useful Columns](#gs2)  \n",
    "    2.3 [Visualize The Data](#gs3)  \n",
    "    2.4 [Analyze The Data](#gs4)  \n",
    "    <br>\n",
    "3. [Orbital Objects](#oo0)  \n",
    "    3.1 [Chinese Anti-Satellite Missile Test Debris](#oo1)  \n",
    "    3.2 [The International Space Station](#oo2)  \n",
    "    3.3 [The Hubble Space Telescope](#oo3)  "
   ]
  },
  {
   "cell_type": "markdown",
   "metadata": {},
   "source": [
    "<a id=\"pc1\"></a>\n",
    "<hr style=\"height:4px; border:none; color:black; background-color:black;\">\n",
    "\n",
    "# 1. Project Description\n",
    "## 1.1 Background"
   ]
  },
  {
   "cell_type": "code",
   "execution_count": null,
   "metadata": {},
   "outputs": [],
   "source": [
    "from IPython import display \n",
    "display.Image(\"data/7423_640.jpg\")"
   ]
  },
  {
   "cell_type": "markdown",
   "metadata": {},
   "source": [
    "### There are many types of objects in orbit around the earth:\n",
    "\n",
    "* Communication satellites\n",
    "* GPS satellites\n",
    "* Weather satellites\n",
    "* Scientific satellites\n",
    "* Space debris\n",
    "* The International Space Station\n",
    "* The Hubble Space Telescope\n",
    "\n",
    "> [What Is An Orbit?](https://www.nasa.gov/audience/forstudents/5-8/features/nasa-knows/what-is-orbit-58.html)\n",
    "\n",
    "The positions of these objects in orbit are being monitored continuously using ground monitor stations and near space radar. Current and historical information related to orbitting objects is mostly public and available from certain websites, for example:\n",
    "\n",
    "> [NORAD Current Orbital Data](https://celestrak.com/NORAD/elements/)  \n",
    "> [NORAD Archives](https://celestrak.com/NORAD/archives/)\n",
    "\n",
    "Sometimes a satellite must be repositioned. For example, GPS satellites must maintain positions relative to each other. \n",
    "\n",
    "> [Repositioning Satellites](https://www.satsig.net/orbit-research/geo-orbit-repositioning.htm)\n",
    "\n",
    "The following link shows that satellite positions are publically available and can be received in real-time:\n",
    "\n",
    "> [Real-Time Satellite Locations](https://in-the-sky.org/satmap_worldmap.php)"
   ]
  },
  {
   "cell_type": "markdown",
   "metadata": {},
   "source": [
    "### GPS Satellites\n",
    "\n",
    "There are currently 30 satellites in the GPS constellation contained in 6 orbital planes. Each GPS satellite orbits twice per 24 hour day around the earth. The goal of the GPS constellation is to make sure that at least 4 GPS satellites are covering every point on the earth at any one time.\n",
    "\n",
    "The current GPS satellite data is presented in CSV format by the URL\n",
    "> https://celestrak.com/NORAD/elements/gp.php?GROUP=GPS-OPS&FORMAT=CSV\n",
    "\n",
    "### Chinese Anti-Satellite Missile Test Debris\n",
    "\n",
    "There also exist much space debris (for various reasons) orbiting the earth. For example, a large pattern of space debris was created in 2007 when the Chinese intentionally destroyed its own satellite. The locations of satellites and space debris are mostly public information. \n",
    "\n",
    "The current location of the Chinese debris is available at\n",
    "> https://celestrak.com/NORAD/elements/gp.php?GROUP=1999-025&FORMAT=csv\""
   ]
  },
  {
   "cell_type": "markdown",
   "metadata": {},
   "source": [
    "<a id=\"pc2\"></a>\n",
    "<hr style=\"height:4px; border:none; color:black; background-color:black;\">\n",
    "\n",
    "## 1.2 Project Capabilities\n",
    "\n",
    "***This project proposes to monitor GPS satellite locations and their positions in space relative to each other and to space debris. The goal of this project is to determine how close each GPS satellite tracks along its intended orbit and also how close space debris might come to our essential GPS fleet.***\n",
    "\n",
    "### Accumulate Orbital Data\n",
    "This project shall accumulate daily measurements of GPS and Space Debris positions at specific times. Orbital data is recorded in the format called Two-Line Element Set (TLE). The fields of each record specify time, position and trajectory along the elliptical orbit. Some websites are capable of converting the TLE records into CSV format containing the same information.\n",
    "\n",
    "The TLE format is concise and useful to the scientific community. If a line is drawn from the center of the earth to the orbital object, it determines a latitude and longitude on the surface of the earth. It also determines an altitude. The TLE data will be converted to a more user friendly latitude/longitude/altitude.\n",
    "### Predict Measurement to Future Time\n",
    "Based on accumulated measurements, the project shall be capable of predicting the expected position of the orbital object at some time in the near future. For example, determine the expected position of a particular GPS satellite at each hour for the next 12 hours.\n",
    "### Determine Distance Between Orbital Objects\n",
    "Based on accumulated measurements, the project shall be capable of predicting the distance between two orbital objects at some time in the near future. For example, determine the estimated separation between a particular GPS satellite and a particular space debris at a certain time."
   ]
  },
  {
   "cell_type": "markdown",
   "metadata": {},
   "source": [
    "<a id=\"pc3\"></a>\n",
    "<hr style=\"height:4px; border:none; color:black; background-color:black;\">\n",
    "\n",
    "<a id=\"pc2\"></a>\n",
    "## 1.3 Questions That Can Be Answered Using These Capabilities \n",
    "<a id=\"pc2\"></a>\n",
    "* Is a GPS satellite moving outside of its designated orbit?\n",
    "* Is a GPS satellite too close or too far from adjacent satellites in its orbit?\n",
    "* Predict if it is likely that a GPS satellite will be repositioned by the Space Operations Squadron within the next 10 days.\n",
    "* For a particular GPS satellite, what are the 100 closest debris objects at the current time?\n",
    "* Predict the likelihood of space debris entering a danger zone around a GPS satellite.\n",
    "* Estimate the probability that a particular debris object is associated with a particular debris cloud\n",
    "* Based on the kinetic energy of a debris object, when is it likely that the debris object will enter the earth's atmosphere?\n",
    "* What is the likelihood that a space debris object or a retired satellite will reach the earth? When and where?"
   ]
  },
  {
   "cell_type": "markdown",
   "metadata": {},
   "source": [
    "<a id=\"gs1\"></a>\n",
    "<hr style=\"height:4px; border:none; color:black; background-color:black;\">\n",
    "\n",
    "## 2.1 This Python Class Downloads Orbital Data and Transforms to a Dataframe"
   ]
  },
  {
   "cell_type": "code",
   "execution_count": null,
   "metadata": {},
   "outputs": [],
   "source": [
    "import pycurl, csv\n",
    "from io import BytesIO\n",
    "\n",
    "\"\"\"\n",
    "CsvToDataFrame\n",
    "\"\"\"\n",
    "\n",
    "class CsvToDataFrame(object):\n",
    "    \n",
    "    csv_file = 'data/Artworks.csv'\n",
    "\n",
    "    def __init__(self, url, csvFile):\n",
    "        self.url = url\n",
    "        self.csvFile = csvFile\n",
    "        pass\n",
    "\n",
    "    def downloadCsvFile(self):\n",
    "        # buffer to receive the data\n",
    "        buffer = BytesIO()\n",
    "\n",
    "        # read into the buffer\n",
    "        c = pycurl.Curl()\n",
    "        c.setopt(c.URL, self.url)\n",
    "        c.setopt(c.WRITEDATA, buffer)\n",
    "        c.perform()\n",
    "        c.close()\n",
    "\n",
    "        # obtain the content\n",
    "        content = buffer.getvalue()\n",
    "\n",
    "        # write to the CSV file\n",
    "        with open(self.csvFile, 'w') as f:\n",
    "            print(content.decode('iso-8859-1'), file=f)\n",
    "\n",
    "        # show result\n",
    "        fullPath = os.path.abspath(csvFile)\n",
    "        file = open(fullPath)\n",
    "        reader = csv.reader(file)\n",
    "        numberRecords = len(list(reader))\n",
    "        print(f'\\n{numberRecords} records have been downloaded to the file: {fullPath}')\n",
    "        \n",
    "    def remove_spaces(self, colname):\n",
    "        return colname.strip().replace(' ','_')\n",
    "\n",
    "    def convertToDataFrame(self):\n",
    "        self.orig = pd.read_csv(self.csvFile)\n",
    "        self.orig.rename(columns = self.remove_spaces, inplace=True)\n",
    "\n",
    "    def transformColumns(self):\n",
    "        # extract date/time column\n",
    "        self.df = self.orig.assign(\n",
    "            date_time = lambda this : this.EPOCH.str[0:16].str.replace(\"T\", \" \"))\n",
    "\n",
    "        # extract the PRN\n",
    "        self.df[\"PRN\"] = (\n",
    "            self.df[\"OBJECT_NAME\"].str.replace(\".*PRN\", \"PRN\", regex=True)\n",
    "                                  .str.replace(\"\\).*\", \"\", regex=True)) \n",
    "\n",
    "        # select the columns of interest\n",
    "        self.df = self.df.loc[:, ['date_time', 'OBJECT_NAME', 'PRN', 'ARG_OF_PERICENTER', 'RA_OF_ASC_NODE']]\n",
    "\n",
    "        # sort the columns by date and time\n",
    "        self.df.sort_values(by=['date_time'], ascending=True, inplace=True)\n",
    "        \n",
    "    def text(self):\n",
    "        print(f'Index is:\\n{gps.df.index}',\n",
    "              f'Columns are:\\n{gps.df.columns}',\n",
    "              f'Values are:\\n{gps.df.values[0:3]}', sep='\\n\\n')"
   ]
  },
  {
   "cell_type": "markdown",
   "metadata": {},
   "source": [
    "### Download GPS Satelite Data"
   ]
  },
  {
   "cell_type": "code",
   "execution_count": null,
   "metadata": {},
   "outputs": [],
   "source": [
    "url = \"https://celestrak.com/NORAD/elements/gp.php?GROUP=GPS-OPS&FORMAT=CSV\"\n",
    "csvFile = 'data/gps-today.csv'\n",
    "gps = CsvToDataFrame(url, csvFile)\n",
    "gps.downloadCsvFile()\n",
    "gps.convertToDataFrame()\n",
    "gps.transformColumns()"
   ]
  },
  {
   "cell_type": "markdown",
   "metadata": {},
   "source": [
    "### Download Chinese Anti-Satellite Missile Test Debris"
   ]
  },
  {
   "cell_type": "code",
   "execution_count": null,
   "metadata": {},
   "outputs": [],
   "source": [
    "url = \"https://celestrak.com/NORAD/elements/gp.php?GROUP=1999-025&FORMAT=csv\"\n",
    "csvFile = 'data/debris-today.csv'\n",
    "debris = CsvToDataFrame(url, csvFile)\n",
    "debris.downloadCsvFile()\n",
    "debris.convertToDataFrame()\n",
    "debris.transformColumns()"
   ]
  },
  {
   "cell_type": "markdown",
   "metadata": {},
   "source": [
    "### Download Space Stations Including The International Space Station"
   ]
  },
  {
   "cell_type": "code",
   "execution_count": null,
   "metadata": {},
   "outputs": [],
   "source": [
    "url = \"https://celestrak.com/NORAD/elements/gp.php?GROUP=stations&FORMAT=csv\"\n",
    "csvFile = 'data/iss-today.csv'\n",
    "iss = CsvToDataFrame(url, csvFile)\n",
    "iss.downloadCsvFile()\n",
    "iss.convertToDataFrame()\n",
    "iss.transformColumns()\n",
    "\n",
    "zarya = iss.df.loc[iss.df['OBJECT_NAME'].str.contains(\"ISS\") &\n",
    "                   iss.df['OBJECT_NAME'].str.contains(\"ZARYA\")]\n",
    "zarya"
   ]
  },
  {
   "cell_type": "markdown",
   "metadata": {},
   "source": [
    "<a id=\"gs2\"></a>\n",
    "<hr style=\"height:4px; border:none; color:black; background-color:black;\">\n",
    "\n",
    "## 2.2 Example of the GPS Satellite Data"
   ]
  },
  {
   "cell_type": "code",
   "execution_count": null,
   "metadata": {
    "scrolled": false
   },
   "outputs": [],
   "source": [
    "gps.df.iloc[:,:]"
   ]
  },
  {
   "cell_type": "markdown",
   "metadata": {},
   "source": [
    "<a id=\"gs3\"></a>\n",
    "<hr style=\"height:4px; border:none; color:black; background-color:black;\">\n",
    "\n",
    "## 2.3 This Python Class Creates Plots of the Orbital Data"
   ]
  },
  {
   "cell_type": "code",
   "execution_count": null,
   "metadata": {},
   "outputs": [],
   "source": [
    "\n",
    "\"\"\"\n",
    "Plotting\n",
    "\"\"\"\n",
    "class Plotting(object):\n",
    "    \n",
    "    linestyles = ['-', '--', '-.', ':', ':o']\n",
    "\n",
    "    def __init__(self):\n",
    "        pass\n",
    "\n",
    "    def plotReset(self):\n",
    "        plt.clf # clear figure\n",
    "        plt.cla # clear axes\n",
    "        plt.figure(figsize=(15,15)) # this also clears the previous plot\n",
    "\n",
    "    def plotScatter(self, xColumn, yColumn, dataframe, color=None):\n",
    "        if False: plt.scatter(env[xColumn], env[yColumn], alpha=1.0, zorder=2)\n",
    "        if False: plt.plot(env[xColumn], env[yColumn], linestyle='dotted', alpha=0.8, zorder=1)\n",
    "        plt.plot(dataframe[xColumn], dataframe[yColumn], 'o', alpha=1.0, color=color)\n",
    "\n",
    "    def plotFormats(self, title, xLabel, yLabel, legend, \n",
    "                    xLim = (None,None), \n",
    "                    yLim = (None,None),\n",
    "                    xTicks = (None,None,None), \n",
    "                    yTicks = (None,None,None)):\n",
    "        plt.xlabel(xLabel, fontsize=15, color='darkblue')\n",
    "        plt.ylabel(yLabel, fontsize=15, color='darkblue')\n",
    "        plt.xlim(xLim[0], xLim[1])\n",
    "        plt.ylim(yLim[0], yLim[1])\n",
    "        plt.title(title, fontsize=15, color='darkblue');\n",
    "        plt.grid(True)\n",
    "        plt.legend(legend[0], loc=legend[1])\n",
    "        plt.xticks(fontsize=14, rotation=45)\n",
    "        plt.yticks(fontsize=14, rotation=45)\n",
    "        if xTicks[0] != None:\n",
    "            plt.xticks(np.arange(xTicks[0], xTicks[1], step=xTicks[2]))\n",
    "        if yTicks[0] != None:\n",
    "            plt.yticks(np.arange(yTicks[0], yTicks[1], step=yTicks[2]))\n",
    "        return\n",
    "    \n",
    "    def labelPoints(self, df):\n",
    "        for i in df.index:\n",
    "            plt.text(df['RA_OF_ASC_NODE'][i] + 1.5,    # X location\n",
    "                     df['ARG_OF_PERICENTER'][i] + 1.5, # Y location\n",
    "                     df['PRN'][i] + '\\n' +             # text\n",
    "                     df['date_time'][i][5:].replace('-','/'),\n",
    "                     horizontalalignment='left')\n",
    " "
   ]
  },
  {
   "cell_type": "markdown",
   "metadata": {},
   "source": [
    "### Place a label on each satellite"
   ]
  },
  {
   "cell_type": "code",
   "execution_count": null,
   "metadata": {},
   "outputs": [],
   "source": [
    "for i in gps.df.index:\n",
    "    print(f\"{gps.df['RA_OF_ASC_NODE'][i]:>10}   \"\n",
    "          f\"{gps.df['ARG_OF_PERICENTER'][i]:>10}   \"\n",
    "          f\"{gps.df['PRN'][i]:>10}\")"
   ]
  },
  {
   "cell_type": "markdown",
   "metadata": {},
   "source": [
    "<a id=\"gs3\"></a>\n",
    "<hr style=\"height:4px; border:none; color:black; background-color:black;\">\n",
    "\n",
    "## 2.3 An Interactive Plot of Orbital Data"
   ]
  },
  {
   "cell_type": "code",
   "execution_count": null,
   "metadata": {},
   "outputs": [],
   "source": [
    "s0 = widgets.Checkbox(value=True, description='SHOW ALL LABELS', disabled=False, indent=False)\n",
    "s1 = widgets.Checkbox(value=True, description='GPS Satellites', disabled=False, indent=False)\n",
    "s2 = widgets.Checkbox(value=True, description='Space Stations', disabled=False, indent=False)\n",
    "s3 = widgets.Checkbox(value=False, description='Space Debris', disabled=False, indent=False)\n",
    "s4 = widgets.Checkbox(value=True, description='International Space Station', disabled=False, indent=False)\n",
    "\n",
    "ui = widgets.HBox([s0, s1, s2, s3, s4]) \n",
    "\n",
    "def checkBox(check0, check1, check2, check3, check4):\n",
    "    if False: print(ui)\n",
    "        \n",
    "    \n",
    "    title = \"\\nGPS Satellite Constellation\\n\"\n",
    "    xLabel = \"Azimuth (degrees)\\n\"\n",
    "    yLabel = \"Elevation (degrees)\\n\"\n",
    "    legend = (['GPS Satellite', 'Space Stations'], 'upper center')\n",
    "\n",
    "        \n",
    "    p = Plotting()\n",
    "    p.plotReset()\n",
    "    \n",
    "    if check1:\n",
    "        p.plotScatter('RA_OF_ASC_NODE', 'ARG_OF_PERICENTER', gps.df.loc[:,:], color='Green')\n",
    "    if check2:\n",
    "        p.plotScatter('RA_OF_ASC_NODE', 'ARG_OF_PERICENTER', iss.df.loc[:,:], color='Purple')\n",
    "    if check3:\n",
    "        p.plotScatter('RA_OF_ASC_NODE', 'ARG_OF_PERICENTER', debris.df.loc[:,:], color='red')\n",
    "    if check4:\n",
    "        p.plotScatter('RA_OF_ASC_NODE', 'ARG_OF_PERICENTER', zarya.loc[:,:], color='red')\n",
    "        \n",
    "    p.plotFormats(title, xLabel, yLabel, legend, xTicks = (None,None,None))\n",
    "    if check0:\n",
    "        p.labelPoints(gps.df.loc[:,:])\n",
    "    plt.axhline(y=180, color='r', linestyle='--')\n",
    "    plt.axvline(x=180, color='r', linestyle='--')\n",
    "    plt.show()\n",
    "    \n",
    "print(f'''\n",
    "Description of how to use this interactive plot\n",
    "''')\n",
    "\n",
    "interact(\n",
    "    checkBox,\n",
    "    check0=s0,\n",
    "    check1=s1,\n",
    "    check2=s2,\n",
    "    check3=s3,\n",
    "    check4=s4,\n",
    "    );\n"
   ]
  },
  {
   "cell_type": "markdown",
   "metadata": {},
   "source": [
    "<br>\n",
    "<br>\n",
    "<hr style=\"height:4px; border:none; color:black; background-color:black;\">\n",
    "<hr style=\"height:4px; border:none; color:black; background-color:black;\">\n",
    "\n",
    "## Other Examples\n",
    "<hr style=\"height:4px; border:none; color:black; background-color:black;\">\n",
    "<hr style=\"height:4px; border:none; color:black; background-color:black;\">\n"
   ]
  },
  {
   "cell_type": "code",
   "execution_count": null,
   "metadata": {},
   "outputs": [],
   "source": [
    "gps.df.describe()"
   ]
  },
  {
   "cell_type": "markdown",
   "metadata": {},
   "source": [
    "<a id=\"oo1\"></a>\n",
    "<hr style=\"height:4px; border:none; color:black; background-color:black;\">\n",
    "\n",
    "## 3.1 Chinese Anti-Satellite Missile Test Debris"
   ]
  },
  {
   "cell_type": "code",
   "execution_count": null,
   "metadata": {},
   "outputs": [],
   "source": [
    "query = debris.df.loc[:,:]\n",
    "\n",
    "title = \"\\nChinese Anti-Satellite Missile Test Debris\\n\"\n",
    "xLabel = \"Azimuth (degrees)\\n\"\n",
    "yLabel = \"Elevation (degrees)\\n\"\n",
    "legend = (['DEBRIS', 'International Space Station'], 'upper center')\n",
    "\n",
    "p = Plotting()\n",
    "p.plotReset()\n",
    "p.plotScatter('RA_OF_ASC_NODE', 'ARG_OF_PERICENTER', query, color='Green')\n",
    "p.plotFormats(title, xLabel, yLabel, legend, xTicks = (None,None,None))\n",
    "plt.axhline(y=180, color='r', linestyle='--')\n",
    "plt.axvline(x=180, color='r', linestyle='--')\n",
    "plt.show()"
   ]
  },
  {
   "cell_type": "markdown",
   "metadata": {},
   "source": [
    "<a id=\"oo2\"></a>\n",
    "<hr style=\"height:4px; border:none; color:black; background-color:black;\">\n",
    "\n",
    "## 3.2 The International Space Station\n"
   ]
  },
  {
   "cell_type": "code",
   "execution_count": null,
   "metadata": {},
   "outputs": [],
   "source": [
    "query = iss.df.loc[:,:]\n",
    "\n",
    "title = \"\\nSpace Stations\\n\"\n",
    "xLabel = \"Azimuth (degrees)\\n\"\n",
    "yLabel = \"Elevation (degrees)\\n\"\n",
    "legend = (['Debris', 'International Space Station'], 'upper center')\n",
    "\n",
    "p = Plotting()\n",
    "p.plotReset()\n",
    "\n",
    "p.plotScatter('RA_OF_ASC_NODE', 'ARG_OF_PERICENTER', debris.df.loc[:,:], color='Green')\n",
    "p.plotScatter('RA_OF_ASC_NODE', 'ARG_OF_PERICENTER', query, color='Purple')\n",
    "p.plotFormats(title, xLabel, yLabel, legend, xTicks = (None,None,None))\n",
    "plt.axhline(y=180, color='r', linestyle='--')\n",
    "plt.axvline(x=180, color='r', linestyle='--')\n",
    "plt.show()"
   ]
  },
  {
   "cell_type": "markdown",
   "metadata": {},
   "source": [
    "<a id=\"oo3\"></a>\n",
    "<hr style=\"height:4px; border:none; color:black; background-color:black;\">\n",
    "\n",
    "## 3.3 The Hubble Space Telescope"
   ]
  },
  {
   "cell_type": "markdown",
   "metadata": {},
   "source": [
    "### Show the Azimuth, Elevation and Timestamp of Each GPS Satellite"
   ]
  },
  {
   "cell_type": "code",
   "execution_count": null,
   "metadata": {
    "scrolled": false
   },
   "outputs": [],
   "source": [
    "query = gps.df.loc[:,:]\n",
    "\n",
    "title = \"\\nThe Azimuth, Elevation and Timestamp of Each GPS Satellite\\n\"\n",
    "xLabel = \"Date and Time\\n\"\n",
    "yLabel = \"Angle (degrees)\\n\"\n",
    "legend = (['Azimuth', 'Elevation'], 'upper center')\n",
    "\n",
    "p = Plotting()\n",
    "p.plotReset()\n",
    "p.plotScatter('date_time', 'ARG_OF_PERICENTER', query, color='Red')\n",
    "p.plotScatter('date_time', 'RA_OF_ASC_NODE', query, color='Green')\n",
    "p.plotFormats(title, xLabel, yLabel, legend, xTicks = (None,None,None))\n",
    "plt.show()"
   ]
  },
  {
   "cell_type": "markdown",
   "metadata": {},
   "source": [
    "### Each GPS Satellite Is Identified by the Pseudorandom Noise Code - PRN"
   ]
  },
  {
   "cell_type": "code",
   "execution_count": null,
   "metadata": {
    "scrolled": false
   },
   "outputs": [],
   "source": [
    "query = gps.df.loc[:,:]\n",
    "\n",
    "title = \"\\nAzimuth, Elevation and PRN Code of Each GPS Satellite\\n\"\n",
    "xLabel = \"Date and Time\\n\"\n",
    "yLabel = \"Angle (degrees)\\n\"\n",
    "legend = (['Azimuth', 'Elevation'], 'upper center')\n",
    "\n",
    "p = Plotting()\n",
    "p.plotReset()\n",
    "p.plotScatter('PRN', 'ARG_OF_PERICENTER', query, color='Red')\n",
    "p.plotScatter('PRN', 'RA_OF_ASC_NODE', query, color='Green')\n",
    "p.plotFormats(title, xLabel, yLabel, legend, xTicks = (None,None,None))\n",
    "plt.show()"
   ]
  },
  {
   "cell_type": "code",
   "execution_count": null,
   "metadata": {
    "scrolled": false
   },
   "outputs": [],
   "source": [
    "title = \"\\nGPS Satellite Constellation\\n\"\n",
    "xLabel = \"Azimuth (degrees)\\n\"\n",
    "yLabel = \"Elevation (degrees)\\n\"\n",
    "legend = (['GPS Satellite', 'Space Stations'], 'upper center')\n",
    "\n",
    "p = Plotting()\n",
    "p.plotReset()\n",
    "p.plotScatter('RA_OF_ASC_NODE', 'ARG_OF_PERICENTER', gps.df.loc[:,:], color='Green')\n",
    "#p.plotScatter('RA_OF_ASC_NODE', 'ARG_OF_PERICENTER', iss.df.loc[:,:], color='Purple')\n",
    "#p.plotScatter('RA_OF_ASC_NODE', 'ARG_OF_PERICENTER', debris.df.loc[:,:], color='red')\n",
    "p.plotScatter('RA_OF_ASC_NODE', 'ARG_OF_PERICENTER', zarya.loc[:,:], color='red')\n",
    "p.plotFormats(title, xLabel, yLabel, legend, xTicks = (None,None,None))\n",
    "p.labelPoints(gps.df.loc[:,:])\n",
    "plt.axhline(y=180, color='r', linestyle='--')\n",
    "plt.axvline(x=180, color='r', linestyle='--')\n",
    "plt.show()"
   ]
  }
 ],
 "metadata": {
  "kernelspec": {
   "display_name": "Python 3",
   "language": "python",
   "name": "python3"
  },
  "language_info": {
   "codemirror_mode": {
    "name": "ipython",
    "version": 3
   },
   "file_extension": ".py",
   "mimetype": "text/x-python",
   "name": "python",
   "nbconvert_exporter": "python",
   "pygments_lexer": "ipython3",
   "version": "3.8.3"
  }
 },
 "nbformat": 4,
 "nbformat_minor": 4
}
